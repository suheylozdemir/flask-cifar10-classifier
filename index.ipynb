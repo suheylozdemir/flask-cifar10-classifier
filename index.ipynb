{
 "cells": [
  {
   "cell_type": "code",
   "execution_count": 1,
   "id": "71ea238b-e149-4b9c-b50e-9215ad0f5c35",
   "metadata": {},
   "outputs": [
    {
     "ename": "SyntaxError",
     "evalue": "invalid syntax (3688023096.py, line 1)",
     "output_type": "error",
     "traceback": [
      "\u001b[0;36m  Cell \u001b[0;32mIn[1], line 1\u001b[0;36m\u001b[0m\n\u001b[0;31m    <!-- templates/index.html -->\u001b[0m\n\u001b[0m    ^\u001b[0m\n\u001b[0;31mSyntaxError\u001b[0m\u001b[0;31m:\u001b[0m invalid syntax\n"
     ]
    }
   ],
   "source": [
    "<!-- templates/index.html -->\n",
    "<!doctype html>\n",
    "<html lang=\"en\">\n",
    "  <head>\n",
    "    <meta charset=\"utf-8\">\n",
    "    <meta name=\"viewport\" content=\"width=device-width, initial-scale=1, shrink-to-fit=no\">\n",
    "    <title>Image Classification</title>\n",
    "    <link rel=\"stylesheet\" href=\"https://stackpath.bootstrapcdn.com/bootstrap/4.3.1/css/bootstrap.min.css\">\n",
    "  </head>\n",
    "  <body>\n",
    "    <div class=\"container\">\n",
    "      <h1 class=\"mt-5\">Image Classification</h1>\n",
    "      <form method=\"post\" enctype=\"multipart/form-data\" class=\"mt-3\">\n",
    "        <div class=\"form-group\">\n",
    "          <label for=\"file\">Upload an image:</label>\n",
    "          <input type=\"file\" class=\"form-control-file\" id=\"file\" name=\"file\">\n",
    "        </div>\n",
    "        <button type=\"submit\" class=\"btn btn-primary\">Upload</button>\n",
    "      </form>\n",
    "      {% if filename %}\n",
    "      <h2 class=\"mt-5\">Prediction: {{ prediction }}</h2>\n",
    "      <img src=\"{{ url_for('display_image', filename=filename) }}\" class=\"img-fluid mt-3\">\n",
    "      {% endif %}\n",
    "    </div>\n",
    "  </body>\n",
    "</html>"
   ]
  },
  {
   "cell_type": "code",
   "execution_count": null,
   "id": "dfdf5405-25b5-4dd7-a402-98bf3c66cec0",
   "metadata": {},
   "outputs": [],
   "source": []
  }
 ],
 "metadata": {
  "kernelspec": {
   "display_name": "Python 3 (ipykernel)",
   "language": "python",
   "name": "python3"
  },
  "language_info": {
   "codemirror_mode": {
    "name": "ipython",
    "version": 3
   },
   "file_extension": ".py",
   "mimetype": "text/x-python",
   "name": "python",
   "nbconvert_exporter": "python",
   "pygments_lexer": "ipython3",
   "version": "3.11.8"
  }
 },
 "nbformat": 4,
 "nbformat_minor": 5
}
